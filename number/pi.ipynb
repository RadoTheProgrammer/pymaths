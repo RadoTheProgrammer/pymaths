{
 "cells": [
  {
   "cell_type": "code",
   "execution_count": 4,
   "metadata": {},
   "outputs": [],
   "source": [
    "import numpy as np\n",
    "from mpmath import mp\n",
    "from math import pi\n",
    "\n",
    "mp.dps = 40 * 2"
   ]
  },
  {
   "cell_type": "code",
   "execution_count": 9,
   "metadata": {},
   "outputs": [],
   "source": [
    "def pi_area(n):\n",
    "    pi = mp.mpf(0.0)\n",
    "    delta = mp.mpf(2.0/n)\n",
    "    for x in np.linspace(-1, 1, n):\n",
    "        pi += mp.sqrt(1-mp.mpf(x**2)) * delta\n",
    "    return pi * 2\n",
    "\n",
    "def correct_decimals(estimation):\n",
    "    estr = str(estimation)\n",
    "    pistr = str(mp.pi)\n",
    "    count = 0\n",
    "    while count < mp.dps and estr[count] == pistr[count]:\n",
    "        count += 1\n",
    "    return count"
   ]
  },
  {
   "cell_type": "code",
   "execution_count": 21,
   "metadata": {},
   "outputs": [],
   "source": [
    "p=pi_area(2000000)\n",
    "print(p)\n",
    "print(correct_decimals(p))"
   ]
  },
  {
   "cell_type": "code",
   "execution_count": 16,
   "metadata": {},
   "outputs": [],
   "source": [
    "def pi_chudnowski(n):\n",
    "    pi = mp.mpf(0.0)\n",
    "    for k in range(n):\n",
    "        num = (-1)**k * mp.factorial(6*k) * (mp.mpf(545140134*k) + 13591409)\n",
    "        den = mp.factorial(3*k) * mp.factorial(k)**3 * mp.mpf(640320)**(3*k+1.5)\n",
    "        pi += 12 * num / den\n",
    "    return 1/pi"
   ]
  },
  {
   "cell_type": "code",
   "execution_count": null,
   "metadata": {},
   "outputs": [
    {
     "name": "stdout",
     "output_type": "stream",
     "text": [
      "3.14159265358979\n",
      "15\n"
     ]
    }
   ],
   "source": [
    "p=pi_chudnowski(4)\n",
    "print(p)\n",
    "print(correct_decimals(p))"
   ]
  }
 ],
 "metadata": {
  "kernelspec": {
   "display_name": "Python 3",
   "language": "python",
   "name": "python3"
  },
  "language_info": {
   "codemirror_mode": {
    "name": "ipython",
    "version": 3
   },
   "file_extension": ".py",
   "mimetype": "text/x-python",
   "name": "python",
   "nbconvert_exporter": "python",
   "pygments_lexer": "ipython3",
   "version": "3.12.2"
  }
 },
 "nbformat": 4,
 "nbformat_minor": 2
}
